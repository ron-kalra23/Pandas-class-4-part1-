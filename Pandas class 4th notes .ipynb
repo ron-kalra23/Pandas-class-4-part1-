{
 "cells": [
  {
   "cell_type": "markdown",
   "id": "66946a33",
   "metadata": {},
   "source": [
    "# Series manipulation"
   ]
  },
  {
   "cell_type": "code",
   "execution_count": 1,
   "id": "af2317af",
   "metadata": {},
   "outputs": [],
   "source": [
    "import numpy as np\n",
    "import pandas as pd"
   ]
  },
  {
   "cell_type": "code",
   "execution_count": 3,
   "id": "44234848",
   "metadata": {},
   "outputs": [],
   "source": [
    "#we can give our own index name \n",
    "ser1 = pd.Series(data = [1,2,3,4,] , index = ['CA' , 'OR' , 'KA' , 'AZ'])"
   ]
  },
  {
   "cell_type": "code",
   "execution_count": 4,
   "id": "6c3e126b",
   "metadata": {},
   "outputs": [
    {
     "data": {
      "text/plain": [
       "CA    1\n",
       "OR    2\n",
       "KA    3\n",
       "AZ    4\n",
       "dtype: int64"
      ]
     },
     "execution_count": 4,
     "metadata": {},
     "output_type": "execute_result"
    }
   ],
   "source": [
    "ser1"
   ]
  },
  {
   "cell_type": "code",
   "execution_count": 5,
   "id": "90931539",
   "metadata": {},
   "outputs": [
    {
     "name": "stdout",
     "output_type": "stream",
     "text": [
      "\n",
      "Indexing by the name of item/object(string identifier)\n",
      "--------------------------------------------------------\n",
      "value for 'CA' in ser1: 1\n",
      "value for 'AZ' in ser1: 4\n"
     ]
    }
   ],
   "source": [
    "print(\"\\nIndexing by the name of item/object(string identifier)\\n\" , '-'*56 , sep='')\n",
    "print(\"value for 'CA' in ser1:\" ,ser1['CA'])\n",
    "print(\"value for 'AZ' in ser1:\" , ser1['AZ'])"
   ]
  },
  {
   "cell_type": "code",
   "execution_count": 6,
   "id": "22008d25",
   "metadata": {},
   "outputs": [
    {
     "name": "stdout",
     "output_type": "stream",
     "text": [
      "\n",
      "Indexing by number (positional value in the series)\n",
      "----------------------------------------------------\n",
      "value for CA in ser1: 1\n",
      "value for AZ in ser1: 4\n"
     ]
    }
   ],
   "source": [
    "#you can also fetch the elements by its index position\n",
    "print(\"\\nIndexing by number (positional value in the series)\\n\" ,'-' * 52  , sep = '')\n",
    "print(\"value for CA in ser1:\" , ser1[0]) #the series still have hidden index number\n",
    "print(\"value for AZ in ser1:\" , ser1[3])"
   ]
  },
  {
   "cell_type": "code",
   "execution_count": 7,
   "id": "49666a70",
   "metadata": {},
   "outputs": [
    {
     "data": {
      "text/plain": [
       "CA    1\n",
       "OR    2\n",
       "KA    3\n",
       "AZ    4\n",
       "dtype: int64"
      ]
     },
     "execution_count": 7,
     "metadata": {},
     "output_type": "execute_result"
    }
   ],
   "source": [
    "ser1\n"
   ]
  },
  {
   "cell_type": "code",
   "execution_count": 9,
   "id": "a3877723",
   "metadata": {},
   "outputs": [
    {
     "name": "stdout",
     "output_type": "stream",
     "text": [
      "\n",
      "Indexing by a range \n",
      "----------------------------------------------------\n",
      "value for OR,KA,AZ in the ser1:\n",
      " OR    2\n",
      "KA    3\n",
      "AZ    4\n",
      "dtype: int64\n"
     ]
    }
   ],
   "source": [
    "print(\"\\nIndexing by a range \\n\", '-'*52 , sep='')#same as we did in tuple in python\n",
    "print(\"value for OR,KA,AZ in the ser1:\\n\",ser1[1:4])"
   ]
  },
  {
   "cell_type": "code",
   "execution_count": 13,
   "id": "fe2ed0f3",
   "metadata": {},
   "outputs": [],
   "source": [
    "ser1 = pd.Series([1,2,3,4,10] , ['CA' , 'OR' , 'CO' , 'AZ', 'NV'])\n",
    "ser2 = pd.Series([1,2,5,4,30] , ['CA' , 'OR' ,'NV' , 'PA' , 'CO'])"
   ]
  },
  {
   "cell_type": "code",
   "execution_count": 14,
   "id": "1f0399f7",
   "metadata": {},
   "outputs": [
    {
     "name": "stdout",
     "output_type": "stream",
     "text": [
      "ser1\n",
      " CA     1\n",
      "OR     2\n",
      "CO     3\n",
      "AZ     4\n",
      "NV    10\n",
      "dtype: int64\n",
      "********************\n",
      "ser2\n",
      " CA     1\n",
      "OR     2\n",
      "NV     5\n",
      "PA     4\n",
      "CO    30\n",
      "dtype: int64\n"
     ]
    }
   ],
   "source": [
    "print('ser1\\n' , ser1)\n",
    "print('*' * 20)\n",
    "print('ser2\\n' , ser2)"
   ]
  },
  {
   "cell_type": "code",
   "execution_count": 15,
   "id": "10e7e98b",
   "metadata": {},
   "outputs": [
    {
     "name": "stdout",
     "output_type": "stream",
     "text": [
      "\n",
      " after adding the two series the result will look like this....\n",
      " --------------------------------------------------\n",
      "AZ     NaN\n",
      "CA     2.0\n",
      "CO    33.0\n",
      "NV    15.0\n",
      "OR     4.0\n",
      "PA     NaN\n",
      "dtype: float64\n",
      "\n",
      "python tries to add values where it finds same index name , and keeps NAn where indicies are not same\n"
     ]
    }
   ],
   "source": [
    "#lets add both series \n",
    "ser3 = ser1 + ser2 \n",
    "print(\"\\n after adding the two series the result will look like this....\\n\",'-' * 50)\n",
    "\n",
    "print(ser3)\n",
    "print(\"\\npython tries to add values where it finds same index name , and keeps NAn where indicies are not same\")"
   ]
  },
  {
   "cell_type": "raw",
   "id": "6e1c4582",
   "metadata": {},
   "source": [
    "similarly we can do add sub and multiplication and all other operation"
   ]
  },
  {
   "cell_type": "code",
   "execution_count": 17,
   "id": "71ee1e1c",
   "metadata": {},
   "outputs": [],
   "source": [
    "#guve nan values for not same indicies "
   ]
  },
  {
   "cell_type": "code",
   "execution_count": 18,
   "id": "6b801966",
   "metadata": {},
   "outputs": [
    {
     "data": {
      "text/plain": [
       "AZ     NaN\n",
       "CA     1.0\n",
       "CO    90.0\n",
       "NV    50.0\n",
       "OR     4.0\n",
       "PA     NaN\n",
       "dtype: float64"
      ]
     },
     "execution_count": 18,
     "metadata": {},
     "output_type": "execute_result"
    }
   ],
   "source": [
    "ser4 = ser1 * ser2 \n",
    "ser4"
   ]
  },
  {
   "cell_type": "markdown",
   "id": "457e9a14",
   "metadata": {},
   "source": [
    "# Dataframe manipulation"
   ]
  },
  {
   "cell_type": "code",
   "execution_count": 19,
   "id": "c41a5625",
   "metadata": {},
   "outputs": [],
   "source": [
    "import pandas as pd \n",
    "import numpy as np\n",
    "import warnings \n",
    "warnings.filterwarnings('ignore')"
   ]
  },
  {
   "cell_type": "code",
   "execution_count": 21,
   "id": "e6e7629d",
   "metadata": {},
   "outputs": [],
   "source": [
    "matrix_data = np.matrix('22,66,140;42,70,148;30,62,125;35,68,160;25,62,152')\n",
    "row_labels =  ['Raju' , 'Pandey' , 'Srini' , 'Sunil' , 'Ashok']\n",
    "column_headings = ['Age ' , 'Height' , 'Weight']"
   ]
  },
  {
   "cell_type": "code",
   "execution_count": 22,
   "id": "cffafdb2",
   "metadata": {},
   "outputs": [
    {
     "name": "stdout",
     "output_type": "stream",
     "text": [
      "\n",
      "A new dataframe\n",
      "-------------------------\n",
      "        Age   Height  Weight\n",
      "Raju      22      66     140\n",
      "Pandey    42      70     148\n",
      "Srini     30      62     125\n",
      "Sunil     35      68     160\n",
      "Ashok     25      62     152\n"
     ]
    }
   ],
   "source": [
    "df = pd.DataFrame(data = matrix_data , index = row_labels , columns = column_headings)\n",
    "\n",
    "print(\"\\nA new dataframe\\n\"  , '-'*25 , sep='')\n",
    "print(df)"
   ]
  },
  {
   "cell_type": "code",
   "execution_count": 24,
   "id": "73146d59",
   "metadata": {},
   "outputs": [
    {
     "name": "stdout",
     "output_type": "stream",
     "text": [
      "\n",
      " The 'height' column\n",
      "-------------------------\n",
      "Raju      66\n",
      "Pandey    70\n",
      "Srini     62\n",
      "Sunil     68\n",
      "Ashok     62\n",
      "Name: Height, dtype: int32\n"
     ]
    }
   ],
   "source": [
    "print(\"\\n The 'height' column\\n\" , '-'*25 , sep='')\n",
    "print(df['Height'])"
   ]
  },
  {
   "cell_type": "code",
   "execution_count": 25,
   "id": "3db2f5ac",
   "metadata": {},
   "outputs": [
    {
     "name": "stdout",
     "output_type": "stream",
     "text": [
      "\n",
      " Height and Weight columns indexing by passing a list\n",
      "--------------------------------------------------\n",
      "        Height  Weight\n",
      "Raju        66     140\n",
      "Pandey      70     148\n",
      "Srini       62     125\n",
      "Sunil       68     160\n",
      "Ashok       62     152\n"
     ]
    }
   ],
   "source": [
    "print(\"\\n Height and Weight columns indexing by passing a list\\n\" , '-'*50 , sep='')\n",
    "print(df[['Height' , 'Weight']])"
   ]
  },
  {
   "cell_type": "code",
   "execution_count": 27,
   "id": "a71046fa",
   "metadata": {},
   "outputs": [],
   "source": [
    "#giving the information of height and weight to a certain varaible.\n",
    "only_ht_wt = df[['Height' , 'Weight']]"
   ]
  },
  {
   "cell_type": "code",
   "execution_count": 28,
   "id": "a8958098",
   "metadata": {},
   "outputs": [
    {
     "data": {
      "text/html": [
       "<div>\n",
       "<style scoped>\n",
       "    .dataframe tbody tr th:only-of-type {\n",
       "        vertical-align: middle;\n",
       "    }\n",
       "\n",
       "    .dataframe tbody tr th {\n",
       "        vertical-align: top;\n",
       "    }\n",
       "\n",
       "    .dataframe thead th {\n",
       "        text-align: right;\n",
       "    }\n",
       "</style>\n",
       "<table border=\"1\" class=\"dataframe\">\n",
       "  <thead>\n",
       "    <tr style=\"text-align: right;\">\n",
       "      <th></th>\n",
       "      <th>Height</th>\n",
       "      <th>Weight</th>\n",
       "    </tr>\n",
       "  </thead>\n",
       "  <tbody>\n",
       "    <tr>\n",
       "      <th>Raju</th>\n",
       "      <td>66</td>\n",
       "      <td>140</td>\n",
       "    </tr>\n",
       "    <tr>\n",
       "      <th>Pandey</th>\n",
       "      <td>70</td>\n",
       "      <td>148</td>\n",
       "    </tr>\n",
       "    <tr>\n",
       "      <th>Srini</th>\n",
       "      <td>62</td>\n",
       "      <td>125</td>\n",
       "    </tr>\n",
       "    <tr>\n",
       "      <th>Sunil</th>\n",
       "      <td>68</td>\n",
       "      <td>160</td>\n",
       "    </tr>\n",
       "    <tr>\n",
       "      <th>Ashok</th>\n",
       "      <td>62</td>\n",
       "      <td>152</td>\n",
       "    </tr>\n",
       "  </tbody>\n",
       "</table>\n",
       "</div>"
      ],
      "text/plain": [
       "        Height  Weight\n",
       "Raju        66     140\n",
       "Pandey      70     148\n",
       "Srini       62     125\n",
       "Sunil       68     160\n",
       "Ashok       62     152"
      ]
     },
     "execution_count": 28,
     "metadata": {},
     "output_type": "execute_result"
    }
   ],
   "source": [
    "only_ht_wt"
   ]
  },
  {
   "cell_type": "code",
   "execution_count": 39,
   "id": "572eb21c",
   "metadata": {},
   "outputs": [
    {
     "data": {
      "text/html": [
       "<div>\n",
       "<style scoped>\n",
       "    .dataframe tbody tr th:only-of-type {\n",
       "        vertical-align: middle;\n",
       "    }\n",
       "\n",
       "    .dataframe tbody tr th {\n",
       "        vertical-align: top;\n",
       "    }\n",
       "\n",
       "    .dataframe thead th {\n",
       "        text-align: right;\n",
       "    }\n",
       "</style>\n",
       "<table border=\"1\" class=\"dataframe\">\n",
       "  <thead>\n",
       "    <tr style=\"text-align: right;\">\n",
       "      <th></th>\n",
       "      <th>Age</th>\n",
       "      <th>Height</th>\n",
       "      <th>Weight</th>\n",
       "    </tr>\n",
       "  </thead>\n",
       "  <tbody>\n",
       "    <tr>\n",
       "      <th>Raju</th>\n",
       "      <td>22</td>\n",
       "      <td>66</td>\n",
       "      <td>140</td>\n",
       "    </tr>\n",
       "    <tr>\n",
       "      <th>Pandey</th>\n",
       "      <td>42</td>\n",
       "      <td>70</td>\n",
       "      <td>148</td>\n",
       "    </tr>\n",
       "    <tr>\n",
       "      <th>Srini</th>\n",
       "      <td>30</td>\n",
       "      <td>62</td>\n",
       "      <td>125</td>\n",
       "    </tr>\n",
       "    <tr>\n",
       "      <th>Sunil</th>\n",
       "      <td>35</td>\n",
       "      <td>68</td>\n",
       "      <td>160</td>\n",
       "    </tr>\n",
       "    <tr>\n",
       "      <th>Ashok</th>\n",
       "      <td>25</td>\n",
       "      <td>62</td>\n",
       "      <td>152</td>\n",
       "    </tr>\n",
       "  </tbody>\n",
       "</table>\n",
       "</div>"
      ],
      "text/plain": [
       "        Age   Height  Weight\n",
       "Raju      22      66     140\n",
       "Pandey    42      70     148\n",
       "Srini     30      62     125\n",
       "Sunil     35      68     160\n",
       "Ashok     25      62     152"
      ]
     },
     "execution_count": 39,
     "metadata": {},
     "output_type": "execute_result"
    }
   ],
   "source": [
    "df"
   ]
  },
  {
   "cell_type": "code",
   "execution_count": 40,
   "id": "3756720e",
   "metadata": {},
   "outputs": [
    {
     "name": "stdout",
     "output_type": "stream",
     "text": [
      "\n",
      "The Age column accessed by(DOT) method , not recommended\n",
      " ---------------------------------------------\n"
     ]
    },
    {
     "ename": "AttributeError",
     "evalue": "'DataFrame' object has no attribute 'Age'",
     "output_type": "error",
     "traceback": [
      "\u001b[1;31m---------------------------------------------------------------------------\u001b[0m",
      "\u001b[1;31mAttributeError\u001b[0m                            Traceback (most recent call last)",
      "\u001b[1;32m~\\AppData\\Local\\Temp\\ipykernel_5196\\2474927296.py\u001b[0m in \u001b[0;36m<module>\u001b[1;34m\u001b[0m\n\u001b[0;32m      1\u001b[0m \u001b[0mprint\u001b[0m\u001b[1;33m(\u001b[0m\u001b[1;34m\"\\nThe Age column accessed by(DOT) method , not recommended\\n \"\u001b[0m \u001b[1;33m,\u001b[0m \u001b[1;34m'-'\u001b[0m\u001b[1;33m*\u001b[0m\u001b[1;36m45\u001b[0m \u001b[1;33m,\u001b[0m\u001b[0msep\u001b[0m\u001b[1;33m=\u001b[0m\u001b[1;34m''\u001b[0m \u001b[1;33m)\u001b[0m\u001b[1;33m\u001b[0m\u001b[1;33m\u001b[0m\u001b[0m\n\u001b[1;32m----> 2\u001b[1;33m \u001b[0mprint\u001b[0m\u001b[1;33m(\u001b[0m\u001b[0mdf\u001b[0m\u001b[1;33m.\u001b[0m\u001b[0mAge\u001b[0m\u001b[1;33m)\u001b[0m\u001b[1;33m\u001b[0m\u001b[1;33m\u001b[0m\u001b[0m\n\u001b[0m",
      "\u001b[1;32m~\\anaconda3\\lib\\site-packages\\pandas\\core\\generic.py\u001b[0m in \u001b[0;36m__getattr__\u001b[1;34m(self, name)\u001b[0m\n\u001b[0;32m   5573\u001b[0m         ):\n\u001b[0;32m   5574\u001b[0m             \u001b[1;32mreturn\u001b[0m \u001b[0mself\u001b[0m\u001b[1;33m[\u001b[0m\u001b[0mname\u001b[0m\u001b[1;33m]\u001b[0m\u001b[1;33m\u001b[0m\u001b[1;33m\u001b[0m\u001b[0m\n\u001b[1;32m-> 5575\u001b[1;33m         \u001b[1;32mreturn\u001b[0m \u001b[0mobject\u001b[0m\u001b[1;33m.\u001b[0m\u001b[0m__getattribute__\u001b[0m\u001b[1;33m(\u001b[0m\u001b[0mself\u001b[0m\u001b[1;33m,\u001b[0m \u001b[0mname\u001b[0m\u001b[1;33m)\u001b[0m\u001b[1;33m\u001b[0m\u001b[1;33m\u001b[0m\u001b[0m\n\u001b[0m\u001b[0;32m   5576\u001b[0m \u001b[1;33m\u001b[0m\u001b[0m\n\u001b[0;32m   5577\u001b[0m     \u001b[1;32mdef\u001b[0m \u001b[0m__setattr__\u001b[0m\u001b[1;33m(\u001b[0m\u001b[0mself\u001b[0m\u001b[1;33m,\u001b[0m \u001b[0mname\u001b[0m\u001b[1;33m:\u001b[0m \u001b[0mstr\u001b[0m\u001b[1;33m,\u001b[0m \u001b[0mvalue\u001b[0m\u001b[1;33m)\u001b[0m \u001b[1;33m->\u001b[0m \u001b[1;32mNone\u001b[0m\u001b[1;33m:\u001b[0m\u001b[1;33m\u001b[0m\u001b[1;33m\u001b[0m\u001b[0m\n",
      "\u001b[1;31mAttributeError\u001b[0m: 'DataFrame' object has no attribute 'Age'"
     ]
    }
   ],
   "source": [
    "print(\"\\nThe Age column accessed by(DOT) method , not recommended\\n \" , '-'*45 ,sep='' )\n",
    "print(df.Age)"
   ]
  },
  {
   "cell_type": "code",
   "execution_count": null,
   "id": "247e4b9a",
   "metadata": {},
   "outputs": [],
   "source": []
  }
 ],
 "metadata": {
  "kernelspec": {
   "display_name": "Python 3 (ipykernel)",
   "language": "python",
   "name": "python3"
  },
  "language_info": {
   "codemirror_mode": {
    "name": "ipython",
    "version": 3
   },
   "file_extension": ".py",
   "mimetype": "text/x-python",
   "name": "python",
   "nbconvert_exporter": "python",
   "pygments_lexer": "ipython3",
   "version": "3.9.13"
  }
 },
 "nbformat": 4,
 "nbformat_minor": 5
}
